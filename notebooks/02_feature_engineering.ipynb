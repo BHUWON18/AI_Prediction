{
 "cells": [
  {
   "cell_type": "code",
   "execution_count": 12,
   "metadata": {},
   "outputs": [
    {
     "name": "stdout",
     "output_type": "stream",
     "text": [
      "Engineered Data Head:\n",
      "   Position                 NAME           TEAM  GOALS SCORED  GAMES  \\\n",
      "0       250  AINGERU OLABARRIETA  ATHLETIC CLUB             0      0   \n",
      "1       145        AITOR PAREDES  ATHLETIC CLUB             1     28   \n",
      "2        27       ALEX BERENGUER  ATHLETIC CLUB             6     27   \n",
      "3       250        ANDER HERRERA  ATHLETIC CLUB             0     17   \n",
      "4       145     ASIER VILLALIBRE  ATHLETIC CLUB             1     13   \n",
      "\n",
      "   GOALS PER MATCH  Assists_Position  ASSISTS  ASSISTS PER MATCH  \\\n",
      "0             0.00               239        0               0.00   \n",
      "1             0.04               239        0               0.00   \n",
      "2             0.22                74        2               0.07   \n",
      "3             0.00                74        2               0.12   \n",
      "4             0.08               137        1               0.08   \n",
      "\n",
      "   Pass_Position  Completed Pass  Total Pass  Pass_Completion_Rate  \\\n",
      "0            566               0           0             78.370373   \n",
      "1             33            1060        1250             84.800000   \n",
      "2            294             243         344             70.639535   \n",
      "3            211             464         541             85.767098   \n",
      "4            434              66          93             70.967742   \n",
      "\n",
      "   Goals_Per_90  Assists_Scaled  \n",
      "0      5.637926       -0.565005  \n",
      "1      3.214286       -0.565005  \n",
      "2     20.000000        0.516714  \n",
      "3      0.000000        1.289371  \n",
      "4      6.923077        0.671246  \n"
     ]
    }
   ],
   "source": [
    "import pandas as pd\n",
    "from sklearn.preprocessing import StandardScaler\n",
    "import os\n",
    "\n",
    "# Load the merged dataset\n",
    "merged_data = pd.read_csv('../data/player_data/merged_player_data.csv')\n",
    "\n",
    "# Feature engineering\n",
    "# 1. Goals per 90 minutes (already in 'GOALS PER MATCH')\n",
    "# 2. Assists per 90 minutes (already in 'ASSISTS PER MATCH')\n",
    "# 3. Pass Completion Rate\n",
    "merged_data['Pass_Completion_Rate'] = merged_data['Completed Pass'] / merged_data['Total Pass'] * 100\n",
    "\n",
    "# 4. Goals per 90 minutes (derived from 'GOALS SCORED' and 'GAMES')\n",
    "merged_data['Goals_Per_90'] = merged_data['GOALS SCORED'] / merged_data['GAMES'] * 90\n",
    "\n",
    "# 5. Scaled assists (Standardization of 'ASSISTS PER MATCH')\n",
    "scaler = StandardScaler()\n",
    "merged_data['Assists_Scaled'] = scaler.fit_transform(merged_data[['ASSISTS PER MATCH']])\n",
    "\n",
    "# Handle missing values: Using mean imputation for numeric columns\n",
    "merged_data.fillna(merged_data.mean(numeric_only=True), inplace=True)\n",
    "\n",
    "# Ensure the 'data' directory exists before saving the file\n",
    "if not os.path.exists('data'):\n",
    "    os.makedirs('data')\n",
    "\n",
    "# Save the engineered data for modeling\n",
    "merged_data.to_csv('data/merged_player_data_engineered.csv', index=False)\n",
    "\n",
    "# Display the engineered features\n",
    "print(\"Engineered Data Head:\")\n",
    "print(merged_data.head())\n"
   ]
  }
 ],
 "metadata": {
  "kernelspec": {
   "display_name": "Python 3",
   "language": "python",
   "name": "python3"
  },
  "language_info": {
   "codemirror_mode": {
    "name": "ipython",
    "version": 3
   },
   "file_extension": ".py",
   "mimetype": "text/x-python",
   "name": "python",
   "nbconvert_exporter": "python",
   "pygments_lexer": "ipython3",
   "version": "3.11.3"
  }
 },
 "nbformat": 4,
 "nbformat_minor": 2
}
