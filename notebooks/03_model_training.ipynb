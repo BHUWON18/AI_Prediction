{
 "cells": [
  {
   "cell_type": "code",
   "execution_count": 1,
   "metadata": {},
   "outputs": [
    {
     "name": "stdout",
     "output_type": "stream",
     "text": [
      "Mean Absolute Error: 0.00\n",
      "Mean Squared Error: 0.00\n"
     ]
    }
   ],
   "source": [
    "import pickle\n",
    "import pandas as pd\n",
    "from sklearn.model_selection import train_test_split\n",
    "from sklearn.ensemble import RandomForestRegressor  # Use regressor instead of classifier\n",
    "from sklearn.metrics import mean_absolute_error, mean_squared_error\n",
    "from sklearn.preprocessing import StandardScaler\n",
    "\n",
    "# Load the pre-processed merged data\n",
    "data = pd.read_csv('../data/player_data/merged_player_data.csv')\n",
    "\n",
    "# Feature Engineering: Create missing features\n",
    "data['Assists_Scaled'] = data['ASSISTS'] / data['GAMES']  # Example scaling\n",
    "data['Assists_Per_90'] = data['ASSISTS'] / (data['GAMES'] * 90)  # Assists per 90 minutes\n",
    "\n",
    "# Define features (X) and target variable (y)\n",
    "X = data[['Assists_Scaled', 'Completed Pass', 'GOALS SCORED', 'Assists_Per_90']]  # Updated features\n",
    "y = data['GOALS SCORED']  # Predict the exact number of goals scored\n",
    "\n",
    "# Split the data into training and testing sets\n",
    "X_train, X_test, y_train, y_test = train_test_split(X, y, test_size=0.2, random_state=42)\n",
    "\n",
    "# Apply scaling on the training data to avoid data leakage\n",
    "scaler = StandardScaler()\n",
    "\n",
    "# Fit the scaler on the training data and transform it\n",
    "X_train[['Assists_Scaled', 'Completed Pass']] = scaler.fit_transform(X_train[['Assists_Scaled', 'Completed Pass']])\n",
    "\n",
    "# Transform the test data using the same scaler\n",
    "X_test[['Assists_Scaled', 'Completed Pass']] = scaler.transform(X_test[['Assists_Scaled', 'Completed Pass']])\n",
    "\n",
    "# Train a Random Forest Regressor model\n",
    "model = RandomForestRegressor(n_estimators=100, random_state=42)\n",
    "model.fit(X_train, y_train)\n",
    "\n",
    "# Make predictions and evaluate the model\n",
    "y_pred = model.predict(X_test)\n",
    "\n",
    "# Evaluate the model\n",
    "mae = mean_absolute_error(y_test, y_pred)\n",
    "mse = mean_squared_error(y_test, y_pred)\n",
    "\n",
    "print(f\"Mean Absolute Error: {mae:.2f}\")\n",
    "print(f\"Mean Squared Error: {mse:.2f}\")\n",
    "\n",
    "# Save the trained model for future use\n",
    "with open('../models/best_model.pkl', 'wb') as model_file:\n",
    "    pickle.dump(model, model_file)\n"
   ]
  }
 ],
 "metadata": {
  "kernelspec": {
   "display_name": "Python 3",
   "language": "python",
   "name": "python3"
  },
  "language_info": {
   "codemirror_mode": {
    "name": "ipython",
    "version": 3
   },
   "file_extension": ".py",
   "mimetype": "text/x-python",
   "name": "python",
   "nbconvert_exporter": "python",
   "pygments_lexer": "ipython3",
   "version": "3.11.3"
  }
 },
 "nbformat": 4,
 "nbformat_minor": 2
}
