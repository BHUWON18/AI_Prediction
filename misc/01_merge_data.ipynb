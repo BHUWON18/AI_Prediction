{
 "cells": [
  {
   "cell_type": "code",
   "execution_count": 3,
   "metadata": {},
   "outputs": [
    {
     "name": "stdout",
     "output_type": "stream",
     "text": [
      "Warning: Missing columns in rudiger-clean.csv, adding them as NaN: ['conceded_goals', 'xCG', 'shots_against', 'saves', 'saves_with_reflexes', 'SWR_percent', 'exits', 'short_passes', 'short_passes_accurate', 'SPA_percent', 'goal_kicks', 'short_goal_kicks', 'SGK_percent', 'long_goal_kicks', 'LGK_percent', 'PA_accurate']\n",
      "Warning: Missing columns in silva-clean.csv, adding them as NaN: ['conceded_goals', 'xCG', 'shots_against', 'saves', 'saves_with_reflexes', 'SWR_percent', 'exits', 'short_passes', 'short_passes_accurate', 'SPA_percent', 'goal_kicks', 'short_goal_kicks', 'SGK_percent', 'long_goal_kicks', 'LGK_percent', 'PA_accurate']\n",
      "Warning: Missing columns in militao-clean.csv, adding them as NaN: ['conceded_goals', 'xCG', 'shots_against', 'saves', 'saves_with_reflexes', 'SWR_percent', 'exits', 'short_passes', 'short_passes_accurate', 'SPA_percent', 'goal_kicks', 'short_goal_kicks', 'SGK_percent', 'long_goal_kicks', 'LGK_percent', 'PA_accurate']\n",
      "Warning: Missing columns in nacho-clean.csv, adding them as NaN: ['conceded_goals', 'xCG', 'shots_against', 'saves', 'saves_with_reflexes', 'SWR_percent', 'exits', 'short_passes', 'short_passes_accurate', 'SPA_percent', 'goal_kicks', 'short_goal_kicks', 'SGK_percent', 'long_goal_kicks', 'LGK_percent', 'PA_accurate']\n",
      "Warning: Missing columns in benzema-clean.csv, adding them as NaN: ['conceded_goals', 'xCG', 'shots_against', 'saves', 'saves_with_reflexes', 'SWR_percent', 'exits', 'short_passes', 'short_passes_accurate', 'SPA_percent', 'goal_kicks', 'short_goal_kicks', 'SGK_percent', 'long_goal_kicks', 'LGK_percent', 'PA_accurate']\n",
      "Warning: Missing columns in modric-clean.csv, adding them as NaN: ['passes', 'conceded_goals', 'xCG', 'shots_against', 'saves', 'saves_with_reflexes', 'SWR_percent', 'exits', 'short_passes', 'short_passes_accurate', 'SPA_percent', 'goal_kicks', 'short_goal_kicks', 'SGK_percent', 'long_goal_kicks', 'LGK_percent', 'PA_accurate']\n",
      "Warning: Missing columns in verratti-clean.csv, adding them as NaN: ['crosses', 'conceded_goals', 'xCG', 'shots_against', 'saves', 'saves_with_reflexes', 'SWR_percent', 'exits', 'short_passes', 'short_passes_accurate', 'SPA_percent', 'goal_kicks', 'short_goal_kicks', 'SGK_percent', 'long_goal_kicks', 'LGK_percent', 'PA_accurate']\n",
      "Warning: Missing columns in kovacic-clean.csv, adding them as NaN: ['conceded_goals', 'xCG', 'shots_against', 'saves', 'saves_with_reflexes', 'SWR_percent', 'exits', 'short_passes', 'short_passes_accurate', 'SPA_percent', 'goal_kicks', 'short_goal_kicks', 'SGK_percent', 'long_goal_kicks', 'LGK_percent', 'PA_accurate']\n",
      "Warning: Missing columns in salah-clean.csv, adding them as NaN: ['conceded_goals', 'xCG', 'shots_against', 'saves', 'saves_with_reflexes', 'SWR_percent', 'exits', 'short_passes', 'short_passes_accurate', 'SPA_percent', 'goal_kicks', 'short_goal_kicks', 'SGK_percent', 'long_goal_kicks', 'LGK_percent', 'PA_accurate']\n",
      "Warning: Missing columns in kante-clean.csv, adding them as NaN: ['conceded_goals', 'xCG', 'shots_against', 'saves', 'saves_with_reflexes', 'SWR_percent', 'exits', 'short_passes', 'short_passes_accurate', 'SPA_percent', 'goal_kicks', 'short_goal_kicks', 'SGK_percent', 'long_goal_kicks', 'LGK_percent', 'PA_accurate']\n",
      "Warning: Missing columns in rodrygo-clean-2.csv, adding them as NaN: ['shots', 'aerial_duels', 'conceded_goals', 'xCG', 'shots_against', 'saves', 'saves_with_reflexes', 'SWR_percent', 'exits', 'short_passes', 'short_passes_accurate', 'SPA_percent', 'goal_kicks', 'short_goal_kicks', 'SGK_percent', 'long_goal_kicks', 'LGK_percent', 'PA_accurate']\n",
      "Warning: Missing columns in courtois-clean.csv, adding them as NaN: ['total_actions', 'total_actions_successful', 'TAS_percent', 'goals', 'assists', 'shots', 'shots_on_target', 'SOT_percent', 'xG', 'passes', 'passes_accurate', 'PA_percent', 'crosses', 'crosses_accurate', 'CA_percent', 'dribbles', 'dribbles_successful', 'DS_percent', 'duels', 'duels_won', 'DW_percent', 'aerial_duels', 'aerial_duels_won', 'ADW_percent', 'interceptions', 'losses', 'losses_own_half', 'LOH_percent', 'recoveries', 'recoveries_opp_half', 'ROPH_percent', 'PA_accurate']\n",
      "Warning: Missing columns in kroos-clean.csv, adding them as NaN: ['PA_percent', 'aerial_duels', 'conceded_goals', 'xCG', 'shots_against', 'saves', 'saves_with_reflexes', 'SWR_percent', 'exits', 'short_passes', 'short_passes_accurate', 'SPA_percent', 'goal_kicks', 'short_goal_kicks', 'SGK_percent', 'long_goal_kicks', 'LGK_percent']\n",
      "Data merged with player names, saved as \"merged_players_data_with_names.csv\"\n"
     ]
    },
    {
     "name": "stderr",
     "output_type": "stream",
     "text": [
      "C:\\Users\\legio\\AppData\\Local\\Temp\\ipykernel_5752\\2939197481.py:63: FutureWarning: The behavior of DataFrame concatenation with empty or all-NA entries is deprecated. In a future version, this will no longer exclude empty or all-NA columns when determining the result dtypes. To retain the old behavior, exclude the relevant entries before the concat operation.\n",
      "  merged_df = pd.concat(dfs, ignore_index=True)\n"
     ]
    }
   ],
   "source": [
    "import pandas as pd\n",
    "import os\n",
    "\n",
    "# Define the folder path where the CSV files are located\n",
    "folder_path = 'D:/Assignment/MScIT Supply/Aalok/Model/real_madrid_prediction/data/'\n",
    "\n",
    "# List of player CSVs\n",
    "player_files = [\n",
    "    'rudiger-clean.csv', 'silva-clean.csv', 'militao-clean.csv', 'nacho-clean.csv',\n",
    "    'benzema-clean.csv', 'modric-clean.csv', 'verratti-clean.csv', 'kovacic-clean.csv',\n",
    "    'salah-clean.csv', 'kante-clean.csv', 'rodrygo-clean-2.csv', 'courtois-clean.csv', 'kroos-clean.csv'\n",
    "]\n",
    "\n",
    "# Player names corresponding to each file\n",
    "player_names = [\n",
    "    'Rüdiger', 'Silva', 'Militão', 'Nacho', 'Benzema', 'Modrić', 'Verratti', 'Kovačić', \n",
    "    'Salah', 'Kanté', 'Rodrygo', 'Courtois', 'Kroos'\n",
    "]\n",
    "\n",
    "# Columns to keep based on your list\n",
    "required_columns = [\n",
    "    'match', 'competition', 'date', 'position', 'minutes_played', 'total_actions', 'total_actions_successful',\n",
    "    'TAS_percent', 'goals', 'assists', 'shots', 'shots_on_target', 'SOT_percent', 'xG', 'passes', 'passes_accurate',\n",
    "    'PA_percent', 'long_passes', 'long_passes_accurate', 'LPA_percent', 'crosses', 'crosses_accurate', 'CA_percent',\n",
    "    'dribbles', 'dribbles_successful', 'DS_percent', 'duels', 'duels_won', 'DW_percent', 'aerial_duels',\n",
    "    'aerial_duels_won', 'ADW_percent', 'interceptions', 'losses', 'losses_own_half', 'LOH_percent', 'recoveries',\n",
    "    'recoveries_opp_half', 'ROPH_percent', 'conceded_goals', 'xCG', 'shots_against', 'saves', 'saves_with_reflexes',\n",
    "    'SWR_percent', 'exits', 'short_passes', 'short_passes_accurate', 'SPA_percent', 'goal_kicks', 'short_goal_kicks',\n",
    "    'SGK_percent', 'long_goal_kicks', 'LGK_percent', 'PA_accurate'\n",
    "]\n",
    "\n",
    "# Initialize an empty list to store DataFrames\n",
    "dfs = []\n",
    "\n",
    "# Loop through each player file\n",
    "for idx, file in enumerate(player_files):\n",
    "    # Read only the first 15 rows\n",
    "    df = pd.read_csv(os.path.join(folder_path, file), nrows=15)\n",
    "    \n",
    "    # Clean column names by stripping leading/trailing spaces\n",
    "    df.columns = df.columns.str.strip()\n",
    "\n",
    "    # Check for missing columns and add them as NaN if they don't exist\n",
    "    missing_columns = [col for col in required_columns if col not in df.columns]\n",
    "    if missing_columns:\n",
    "        print(f\"Warning: Missing columns in {file}, adding them as NaN:\", missing_columns)\n",
    "        for missing_col in missing_columns:\n",
    "            df[missing_col] = pd.NA  # Add missing columns as NaN\n",
    "\n",
    "    # Keep only the necessary columns, even if some are missing\n",
    "    df = df[required_columns]\n",
    "\n",
    "    # Add a 'player_name' column to identify the player in each row\n",
    "    df['player_name'] = player_names[idx]\n",
    "\n",
    "    # If it's the first file, we keep the header, else we don't\n",
    "    if not dfs:\n",
    "        dfs.append(df)  # First file, keep full data (header included)\n",
    "    else:\n",
    "        dfs.append(df.iloc[1:])  # For subsequent files, skip the first row\n",
    "\n",
    "# Concatenate all DataFrames into one\n",
    "merged_df = pd.concat(dfs, ignore_index=True)\n",
    "\n",
    "# Save the merged data to a new CSV file\n",
    "merged_df.to_csv(os.path.join(folder_path, 'merged_players_data_with_names.csv'), index=False)\n",
    "\n",
    "# Print success message\n",
    "print('Data merged with player names, saved as \"merged_players_data_with_names.csv\"')\n"
   ]
  }
 ],
 "metadata": {
  "kernelspec": {
   "display_name": "Python 3",
   "language": "python",
   "name": "python3"
  },
  "language_info": {
   "codemirror_mode": {
    "name": "ipython",
    "version": 3
   },
   "file_extension": ".py",
   "mimetype": "text/x-python",
   "name": "python",
   "nbconvert_exporter": "python",
   "pygments_lexer": "ipython3",
   "version": "3.11.3"
  }
 },
 "nbformat": 4,
 "nbformat_minor": 2
}
